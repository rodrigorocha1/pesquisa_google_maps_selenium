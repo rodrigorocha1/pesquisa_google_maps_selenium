{
 "cells": [
  {
   "cell_type": "code",
   "execution_count": 7,
   "metadata": {},
   "outputs": [],
   "source": [
    "from selenium import webdriver\n",
    "from selenium.webdriver.chrome.service import Service\n",
    "from webdriver_manager.chrome import ChromeDriverManager\n",
    "from selenium.webdriver.common.by import By\n",
    "from selenium.webdriver.common.keys import Keys\n",
    "from selenium.common.exceptions import NoSuchElementException\n",
    "from time import sleep\n",
    "from selenium.webdriver.common.action_chains import ActionChains\n",
    "import sys"
   ]
  },
  {
   "cell_type": "code",
   "execution_count": 8,
   "metadata": {},
   "outputs": [],
   "source": [
    "servico = Service(ChromeDriverManager().install())\n",
    "navegador= webdriver.Chrome(service=servico)\n",
    "navegador.maximize_window()"
   ]
  },
  {
   "cell_type": "code",
   "execution_count": 3,
   "metadata": {},
   "outputs": [],
   "source": [
    "navegador.get('https://www.google.com/')"
   ]
  },
  {
   "cell_type": "code",
   "execution_count": 4,
   "metadata": {},
   "outputs": [],
   "source": [
    "\n",
    "barra_busca = navegador.find_element(By.CLASS_NAME, 'gLFyf')\n",
    "barra_busca.send_keys('Loja de Roupa em  Ribeirão Preto')\n",
    "\n",
    "\n"
   ]
  },
  {
   "cell_type": "code",
   "execution_count": 5,
   "metadata": {},
   "outputs": [],
   "source": [
    "barra_busca.send_keys(Keys.ENTER) # LGwnxb"
   ]
  },
  {
   "cell_type": "code",
   "execution_count": 6,
   "metadata": {},
   "outputs": [],
   "source": [
    "navegador.find_element(By.CLASS_NAME, \"pYouzb\").click()"
   ]
  },
  {
   "cell_type": "code",
   "execution_count": 291,
   "metadata": {},
   "outputs": [
    {
     "data": {
      "text/plain": [
       "''"
      ]
     },
     "execution_count": 291,
     "metadata": {},
     "output_type": "execute_result"
    }
   ],
   "source": [
    "teste = navegador.find_element(By.CLASS_NAME, 'OSrXXb' )\n",
    "teste.text"
   ]
  },
  {
   "cell_type": "code",
   "execution_count": 12,
   "metadata": {},
   "outputs": [
    {
     "name": "stdout",
     "output_type": "stream",
     "text": [
      "Pizzaria Nocapricho == 4,7 km · 518 5551_Rua João Godoy\n",
      "Donna Bia Pizzas == 4,4 km · 215 Avenida Portugal\n",
      "Pizzaria Amore & Pizza == 200,0 m · R. Adalberto Pajuaba, 813\n",
      "Fritz Pizzaria e Esfiharia == 350,0 m · R. Padre Anchieta, 2131\n",
      "La Vecchia Villa Pizzaria e Choperia == 1,4 km · Av. do Café, 1545\n",
      "Pizzaria e Lanchonete Bahiana == 700,0 m · R. Carlos De Campos, 240\n",
      "Pizzaria Três Irmãos - Av. do Café Famoso Rodízio De Pizzas == 1,8 km · Av. do Café, 549\n",
      "Don Raffaele pizzaria == 1,8 km · Av. do Café, 688\n",
      "Pizzaria Unidas == 1,6 km · 010, Av. do Café, 871\n",
      "Pizza Tem == 800,0 m · Av. Antônio e Helena Zerrener, 1319\n",
      "Via Luce == 2,7 km · Av. Santa Luzia, 100\n",
      "Maisa Pizzas == 2,6 km · R. Saldanha Marinho, 1118\n",
      "Pizzaria Tradição Avenida do Café == 1,4 km · Av. do Café, 1244\n",
      "Dom Gabriel Pizza & Lanches == 1,3 km · R. Nova Cruz, 266\n",
      "Restaurante Pizzaria Ribeirão == 5,4 km · R. Inácio Luíz Pinto, 245\n",
      "Nova Ribeirânia Pizzeria 2 Delivery == 1,4 km · Av. do Café, 1935\n",
      "Gringos II Pizzaria == 350,0 m · R. Rondônia, 847\n",
      "Pizzaria Santa Luzia == 1,1 km · R. Marquês da Cruz, 431\n",
      "Pizza House == 2,4 km · Rua Maria Tereza Braga Cerri, 864\n",
      "Pizzaria Tradição == 1,3 km · R. Rio Grande do Norte, 731\n",
      "Terraço Pizza Bar == 4,0 km · R. Américo Brasiliense, 1565\n",
      "Pizzaria Ramos Ribeirão Preto == 4,0 km · Whatsapp:(83) 98796 - 1588_R. Olavo Bilac, 980\n"
     ]
    }
   ],
   "source": [
    "lojas = navegador.find_elements(By.XPATH, '//span[@class=\"OSrXXb\"]')\n",
    "enderecos = navegador.find_elements(By.XPATH, '//div[@class=\"rllt__details\"]/div[3]')\n",
    "for loja, enderecos in zip(lojas, enderecos):\n",
    "    print(loja.text, enderecos.text.strip(),  sep=' == ')"
   ]
  },
  {
   "cell_type": "code",
   "execution_count": 224,
   "metadata": {},
   "outputs": [],
   "source": [
    "try:\n",
    "    navegador.find_element(By.ID, 'pnnext').click()\n",
    "except NoSuchElementException as e :\n",
    "    print(e)"
   ]
  },
  {
   "cell_type": "code",
   "execution_count": 249,
   "metadata": {},
   "outputs": [],
   "source": [
    "navegador.close()"
   ]
  },
  {
   "cell_type": "code",
   "execution_count": null,
   "metadata": {},
   "outputs": [],
   "source": []
  },
  {
   "cell_type": "code",
   "execution_count": 8,
   "metadata": {},
   "outputs": [],
   "source": [
    "a = [i for i in range(1, 100000000000000000000000000000000000)]\n",
    "b = [i for i in range(1, 1000)]\n",
    "sys.getsizeof(a) / (1024 * 1024)"
   ]
  },
  {
   "cell_type": "code",
   "execution_count": null,
   "metadata": {},
   "outputs": [
    {
     "data": {
      "text/plain": [
       "104"
      ]
     },
     "execution_count": 5,
     "metadata": {},
     "output_type": "execute_result"
    }
   ],
   "source": [
    "a = (i for i in range(1, 100000000000000000000000000000000000))\n",
    "sys.getsizeof(a)"
   ]
  },
  {
   "cell_type": "code",
   "execution_count": 7,
   "metadata": {},
   "outputs": [
    {
     "data": {
      "text/plain": [
       "64"
      ]
     },
     "execution_count": 7,
     "metadata": {},
     "output_type": "execute_result"
    }
   ],
   "source": [
    "\n",
    "sys.getsizeof(zip(a, b))"
   ]
  }
 ],
 "metadata": {
  "kernelspec": {
   "display_name": "venv",
   "language": "python",
   "name": "python3"
  },
  "language_info": {
   "codemirror_mode": {
    "name": "ipython",
    "version": 3
   },
   "file_extension": ".py",
   "mimetype": "text/x-python",
   "name": "python",
   "nbconvert_exporter": "python",
   "pygments_lexer": "ipython3",
   "version": "3.10.12"
  }
 },
 "nbformat": 4,
 "nbformat_minor": 2
}
