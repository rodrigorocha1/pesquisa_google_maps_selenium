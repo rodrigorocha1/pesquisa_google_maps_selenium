{
 "cells": [
  {
   "cell_type": "code",
   "execution_count": 24,
   "metadata": {},
   "outputs": [],
   "source": [
    "from selenium import webdriver\n",
    "from selenium.webdriver.chrome.service import Service\n",
    "from webdriver_manager.chrome import ChromeDriverManager\n",
    "from selenium.webdriver.common.by import By"
   ]
  },
  {
   "cell_type": "code",
   "execution_count": 25,
   "metadata": {},
   "outputs": [],
   "source": [
    "servico = Service(ChromeDriverManager().install())\n",
    "navegador= webdriver.Chrome(service=servico)\n",
    "navegador.maximize_window()"
   ]
  },
  {
   "cell_type": "code",
   "execution_count": 26,
   "metadata": {},
   "outputs": [],
   "source": [
    "navegador.get('https://www.google.com.br/maps/preview')\n",
    "navegador.find_element(By.ID, 'searchboxinput').send_keys('Loja de Roupas Em Ribeirão Preto')\n"
   ]
  },
  {
   "cell_type": "code",
   "execution_count": 27,
   "metadata": {},
   "outputs": [],
   "source": [
    "navegador.find_element(By.XPATH, '//*[@id=\"searchbox-searchbutton\"]/span').click()\n"
   ]
  },
  {
   "cell_type": "code",
   "execution_count": 29,
   "metadata": {},
   "outputs": [
    {
     "name": "stdout",
     "output_type": "stream",
     "text": [
      "Kiwi pra você - Roupas e acessorios feminina Mid Size\n",
      "Laleska Modas Plus Size: Estilo e Elegância.\n",
      "Magazine da Moda\n",
      "Las Hermanas Modas\n",
      "Arrazy Moda Feminina - Roupas para Eventos e Festa\n",
      "Lalilu Modas - Ribeirão Preto\n",
      "Loja de Roupas Femininas | Calçados | Vestidos | Moda Feminina | Cristina Modas\n",
      "Loja Benditta\n",
      "Sol Fashion\n",
      "Valentina\n",
      "Gabi Modas - Plus Size Ribeirão Preto\n",
      "Legião Rosa\n",
      "Samantha Lopez Store - Moda Feminina Ribeirão Preto\n",
      "Vestilie Moda Feminina\n",
      "MS Boutique - Mon Saint Boutique - Moda Plus Size - Moda Grande\n",
      "Malah Brit Moda Plus Size\n",
      "Amarelli Store\n",
      "Ismênia Costa - Loja 1\n",
      "Jella Modas\n",
      "Vise Versa Moda Feminina\n"
     ]
    }
   ],
   "source": [
    "lojas = navegador.find_elements(By.CLASS_NAME, 'fontHeadlineSmall')\n",
    "for loja in lojas:\n",
    "    print(loja.text)"
   ]
  },
  {
   "cell_type": "code",
   "execution_count": 20,
   "metadata": {},
   "outputs": [
    {
     "ename": "WebDriverException",
     "evalue": "Message: disconnected: not connected to DevTools\n  (failed to check if window was closed: disconnected: not connected to DevTools)\n  (Session info: chrome=122.0.6261.128)\nStacktrace:\n#0 0x55ede3ffcf33 <unknown>\n#1 0x55ede3cf4ce6 <unknown>\n#2 0x55ede3cd9aef <unknown>\n#3 0x55ede3cdaf1f <unknown>\n#4 0x55ede3cf5240 <unknown>\n#5 0x55ede3ccb41e <unknown>\n#6 0x55ede3d71025 <unknown>\n#7 0x55ede3d61e78 <unknown>\n#8 0x55ede3d32db3 <unknown>\n#9 0x55ede3d3377e <unknown>\n#10 0x55ede3fc286b <unknown>\n#11 0x55ede3fc6885 <unknown>\n#12 0x55ede3fb0181 <unknown>\n#13 0x55ede3fc7412 <unknown>\n#14 0x55ede3f9425f <unknown>\n#15 0x55ede3feb528 <unknown>\n#16 0x55ede3feb723 <unknown>\n#17 0x55ede3ffc0e4 <unknown>\n#18 0x7f3128b96ac3 <unknown>\n",
     "output_type": "error",
     "traceback": [
      "\u001b[0;31m---------------------------------------------------------------------------\u001b[0m",
      "\u001b[0;31mWebDriverException\u001b[0m                        Traceback (most recent call last)",
      "Cell \u001b[0;32mIn[20], line 1\u001b[0m\n\u001b[0;32m----> 1\u001b[0m \u001b[43mnavegador\u001b[49m\u001b[38;5;241;43m.\u001b[39;49m\u001b[43mclose\u001b[49m\u001b[43m(\u001b[49m\u001b[43m)\u001b[49m\n",
      "File \u001b[0;32m~/Documentos/projetos/pesquisa_google/venv/lib/python3.10/site-packages/selenium/webdriver/remote/webdriver.py:937\u001b[0m, in \u001b[0;36mWebDriver.close\u001b[0;34m(self)\u001b[0m\n\u001b[1;32m    928\u001b[0m \u001b[38;5;28;01mdef\u001b[39;00m \u001b[38;5;21mclose\u001b[39m(\u001b[38;5;28mself\u001b[39m) \u001b[38;5;241m-\u001b[39m\u001b[38;5;241m>\u001b[39m \u001b[38;5;28;01mNone\u001b[39;00m:\n\u001b[1;32m    929\u001b[0m \u001b[38;5;250m    \u001b[39m\u001b[38;5;124;03m\"\"\"\u001b[39;00m\n\u001b[1;32m    930\u001b[0m \u001b[38;5;124;03m    Closes the current window.\u001b[39;00m\n\u001b[1;32m    931\u001b[0m \n\u001b[0;32m   (...)\u001b[0m\n\u001b[1;32m    935\u001b[0m \u001b[38;5;124;03m            driver.close()\u001b[39;00m\n\u001b[1;32m    936\u001b[0m \u001b[38;5;124;03m    \"\"\"\u001b[39;00m\n\u001b[0;32m--> 937\u001b[0m     \u001b[38;5;28;43mself\u001b[39;49m\u001b[38;5;241;43m.\u001b[39;49m\u001b[43mexecute\u001b[49m\u001b[43m(\u001b[49m\u001b[43mCommand\u001b[49m\u001b[38;5;241;43m.\u001b[39;49m\u001b[43mCLOSE\u001b[49m\u001b[43m)\u001b[49m\n",
      "File \u001b[0;32m~/Documentos/projetos/pesquisa_google/venv/lib/python3.10/site-packages/selenium/webdriver/remote/webdriver.py:424\u001b[0m, in \u001b[0;36mWebDriver.execute\u001b[0;34m(self, driver_command, params)\u001b[0m\n\u001b[1;32m    422\u001b[0m response \u001b[38;5;241m=\u001b[39m \u001b[38;5;28mself\u001b[39m\u001b[38;5;241m.\u001b[39mcommand_executor\u001b[38;5;241m.\u001b[39mexecute(driver_command, params)\n\u001b[1;32m    423\u001b[0m \u001b[38;5;28;01mif\u001b[39;00m response:\n\u001b[0;32m--> 424\u001b[0m     \u001b[38;5;28;43mself\u001b[39;49m\u001b[38;5;241;43m.\u001b[39;49m\u001b[43merror_handler\u001b[49m\u001b[38;5;241;43m.\u001b[39;49m\u001b[43mcheck_response\u001b[49m\u001b[43m(\u001b[49m\u001b[43mresponse\u001b[49m\u001b[43m)\u001b[49m\n\u001b[1;32m    425\u001b[0m     response[\u001b[38;5;124m'\u001b[39m\u001b[38;5;124mvalue\u001b[39m\u001b[38;5;124m'\u001b[39m] \u001b[38;5;241m=\u001b[39m \u001b[38;5;28mself\u001b[39m\u001b[38;5;241m.\u001b[39m_unwrap_value(\n\u001b[1;32m    426\u001b[0m         response\u001b[38;5;241m.\u001b[39mget(\u001b[38;5;124m'\u001b[39m\u001b[38;5;124mvalue\u001b[39m\u001b[38;5;124m'\u001b[39m, \u001b[38;5;28;01mNone\u001b[39;00m))\n\u001b[1;32m    427\u001b[0m     \u001b[38;5;28;01mreturn\u001b[39;00m response\n",
      "File \u001b[0;32m~/Documentos/projetos/pesquisa_google/venv/lib/python3.10/site-packages/selenium/webdriver/remote/errorhandler.py:247\u001b[0m, in \u001b[0;36mErrorHandler.check_response\u001b[0;34m(self, response)\u001b[0m\n\u001b[1;32m    245\u001b[0m         alert_text \u001b[38;5;241m=\u001b[39m value[\u001b[38;5;124m'\u001b[39m\u001b[38;5;124malert\u001b[39m\u001b[38;5;124m'\u001b[39m]\u001b[38;5;241m.\u001b[39mget(\u001b[38;5;124m'\u001b[39m\u001b[38;5;124mtext\u001b[39m\u001b[38;5;124m'\u001b[39m)\n\u001b[1;32m    246\u001b[0m     \u001b[38;5;28;01mraise\u001b[39;00m exception_class(message, screen, stacktrace, alert_text)  \u001b[38;5;66;03m# type: ignore[call-arg]  # mypy is not smart enough here\u001b[39;00m\n\u001b[0;32m--> 247\u001b[0m \u001b[38;5;28;01mraise\u001b[39;00m exception_class(message, screen, stacktrace)\n",
      "\u001b[0;31mWebDriverException\u001b[0m: Message: disconnected: not connected to DevTools\n  (failed to check if window was closed: disconnected: not connected to DevTools)\n  (Session info: chrome=122.0.6261.128)\nStacktrace:\n#0 0x55ede3ffcf33 <unknown>\n#1 0x55ede3cf4ce6 <unknown>\n#2 0x55ede3cd9aef <unknown>\n#3 0x55ede3cdaf1f <unknown>\n#4 0x55ede3cf5240 <unknown>\n#5 0x55ede3ccb41e <unknown>\n#6 0x55ede3d71025 <unknown>\n#7 0x55ede3d61e78 <unknown>\n#8 0x55ede3d32db3 <unknown>\n#9 0x55ede3d3377e <unknown>\n#10 0x55ede3fc286b <unknown>\n#11 0x55ede3fc6885 <unknown>\n#12 0x55ede3fb0181 <unknown>\n#13 0x55ede3fc7412 <unknown>\n#14 0x55ede3f9425f <unknown>\n#15 0x55ede3feb528 <unknown>\n#16 0x55ede3feb723 <unknown>\n#17 0x55ede3ffc0e4 <unknown>\n#18 0x7f3128b96ac3 <unknown>\n"
     ]
    }
   ],
   "source": [
    "navegador.close()"
   ]
  }
 ],
 "metadata": {
  "kernelspec": {
   "display_name": "venv",
   "language": "python",
   "name": "python3"
  },
  "language_info": {
   "codemirror_mode": {
    "name": "ipython",
    "version": 3
   },
   "file_extension": ".py",
   "mimetype": "text/x-python",
   "name": "python",
   "nbconvert_exporter": "python",
   "pygments_lexer": "ipython3",
   "version": "3.10.12"
  }
 },
 "nbformat": 4,
 "nbformat_minor": 2
}
